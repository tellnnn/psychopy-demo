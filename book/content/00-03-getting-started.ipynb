{
 "cells": [
  {
   "cell_type": "markdown",
   "metadata": {},
   "source": [
    "# Getting Started\n",
    "\n",
    "As described in [Getting Started](https://www.psychopy.org/gettingStarted.html) in PychoPy website, there are two ways to use PsychoPy: Builder and Coder. In this book, I will introduce Coder. As a first step, let's say hello using PsychoPy!"
   ]
  },
  {
   "cell_type": "code",
   "execution_count": 2,
   "metadata": {},
   "outputs": [],
   "source": [
    "from psychopy import core, visual\n",
    "\n",
    "win = visual.Window()\n",
    "msg = visual.TextStim(win, text=\"Hello, World!\")\n",
    "\n",
    "msg.draw()\n",
    "win.flip()\n",
    "core.wait(2)\n",
    "win.close()\n",
    "\n",
    "exit"
   ]
  }
 ],
 "metadata": {
  "kernelspec": {
   "display_name": "Python 3",
   "language": "python",
   "name": "python3"
  },
  "language_info": {
   "codemirror_mode": {
    "name": "ipython",
    "version": 3
   },
   "file_extension": ".py",
   "mimetype": "text/x-python",
   "name": "python",
   "nbconvert_exporter": "python",
   "pygments_lexer": "ipython3",
   "version": "3.6.13"
  }
 },
 "nbformat": 4,
 "nbformat_minor": 2
}
