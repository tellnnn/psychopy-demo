{
 "cells": [
  {
   "cell_type": "markdown",
   "metadata": {},
   "source": [
    "# Getting Started\n",
    "\n",
    "As described in [PsychoPy Getting Started](https://www.psychopy.org/gettingStarted.html), there are two ways to use PsychoPy: Builder and Coder. In this book, I will introduce Coder.\n",
    "\n",
    "As the first step, let's say hello using PsychoPy!"
   ]
  },
  {
   "cell_type": "code",
   "execution_count": 2,
   "metadata": {},
   "outputs": [],
   "source": [
    "from psychopy import core, visual\n",
    "\n",
    "win = visual.Window()\n",
    "msg = visual.TextStim(win, text=\"Hello, World!\")\n",
    "\n",
    "msg.draw()\n",
    "win.flip()\n",
    "core.wait(2)\n",
    "win.close()\n",
    "\n",
    "# exit # This line stops your Python and closes the remained window after win.close()"
   ]
  }
 ],
 "metadata": {
  "kernelspec": {
   "display_name": "Python 3",
   "language": "python",
   "name": "python3"
  },
  "language_info": {
   "codemirror_mode": {
    "name": "ipython",
    "version": 3
   },
   "file_extension": ".py",
   "mimetype": "text/x-python",
   "name": "python",
   "nbconvert_exporter": "python",
   "pygments_lexer": "ipython3",
   "version": "3.6.13"
  }
 },
 "nbformat": 4,
 "nbformat_minor": 2
}